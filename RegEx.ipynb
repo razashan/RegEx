{
 "cells": [
  {
   "cell_type": "markdown",
   "id": "3375bda7",
   "metadata": {},
   "source": [
    "# RegEx"
   ]
  },
  {
   "cell_type": "markdown",
   "id": "d04f1360",
   "metadata": {},
   "source": [
    "RegEx can be used to check if a string contains the specified search pattern"
   ]
  },
  {
   "cell_type": "markdown",
   "id": "eb119574",
   "metadata": {},
   "source": [
    "### Example\n",
    "Search the string to see if it starts with \"The\" and ends with \"Spain\":"
   ]
  },
  {
   "cell_type": "markdown",
   "id": "036089f5",
   "metadata": {},
   "source": [
    "import re\n",
    "\n",
    "txt = \"The rain in Spain\"\n",
    "x = re.search(\"^The.*Spain$\", txt)"
   ]
  },
  {
   "cell_type": "code",
   "execution_count": 6,
   "id": "e0f9b862",
   "metadata": {},
   "outputs": [
    {
     "name": "stdout",
     "output_type": "stream",
     "text": [
      "<re.Match object; span=(0, 17), match='The rain in Spain'>\n"
     ]
    }
   ],
   "source": [
    "print(x)"
   ]
  },
  {
   "cell_type": "code",
   "execution_count": 7,
   "id": "a0f9b7ad",
   "metadata": {},
   "outputs": [
    {
     "name": "stdout",
     "output_type": "stream",
     "text": [
      "Yes it is available in String\n"
     ]
    }
   ],
   "source": [
    "if x:\n",
    "    print(\"Yes it is available in String\")\n",
    "else:\n",
    "    print(\"Not Present\")"
   ]
  },
  {
   "cell_type": "markdown",
   "id": "ac242ba3",
   "metadata": {},
   "source": [
    "## Find all the digits "
   ]
  },
  {
   "cell_type": "code",
   "execution_count": 8,
   "id": "59983e09",
   "metadata": {},
   "outputs": [
    {
     "name": "stdout",
     "output_type": "stream",
     "text": [
      "['5', '9']\n"
     ]
    }
   ],
   "source": [
    "txt = \"That will be 59 dollars\"\n",
    "\n",
    "#Find all digit characters:\n",
    "\n",
    "x = re.findall(\"\\d\", txt)\n",
    "print(x)\n"
   ]
  },
  {
   "cell_type": "markdown",
   "id": "b4c7127a",
   "metadata": {},
   "source": [
    "### Search for a sequence that starts with \"he\", followed by two (any) characters, and an \"o\":"
   ]
  },
  {
   "cell_type": "code",
   "execution_count": 9,
   "id": "37303d1c",
   "metadata": {},
   "outputs": [
    {
     "name": "stdout",
     "output_type": "stream",
     "text": [
      "['hello']\n"
     ]
    }
   ],
   "source": [
    "txt = \"hello planet\"\n",
    "x = re.findall(\"he..o\", txt)\n",
    "print(x)\n"
   ]
  },
  {
   "cell_type": "markdown",
   "id": "5d79edb4",
   "metadata": {},
   "source": [
    "# Starts With "
   ]
  },
  {
   "cell_type": "code",
   "execution_count": 10,
   "id": "f23470c3",
   "metadata": {},
   "outputs": [
    {
     "name": "stdout",
     "output_type": "stream",
     "text": [
      "Yes, the string starts with 'hello'\n"
     ]
    }
   ],
   "source": [
    "txt = \"hello planet\"\n",
    "x = re.findall(\"^hello\", txt)\n",
    "if x:\n",
    "  print(\"Yes, the string starts with 'hello'\")\n",
    "else:\n",
    "  print(\"No match\")"
   ]
  },
  {
   "cell_type": "markdown",
   "id": "cac0c5c1",
   "metadata": {},
   "source": [
    "## Ends With "
   ]
  },
  {
   "cell_type": "code",
   "execution_count": 12,
   "id": "00bb8ad6",
   "metadata": {},
   "outputs": [
    {
     "name": "stdout",
     "output_type": "stream",
     "text": [
      "Yes, the string ends with 'planet'\n"
     ]
    }
   ],
   "source": [
    "txt = \"hello planet\"\n",
    "x = re.findall(\"planet$\", txt)\n",
    "if x:\n",
    "  print(\"Yes, the string ends with 'planet'\")\n",
    "else:\n",
    "  print(\"No match\")\n"
   ]
  },
  {
   "cell_type": "markdown",
   "id": "d17629a2",
   "metadata": {},
   "source": [
    "## Zero or more occurrences"
   ]
  },
  {
   "cell_type": "markdown",
   "id": "f9181195",
   "metadata": {},
   "source": [
    "Search for a sequence that starts with \"he\", followed by 0 or more  (any) characters, and an \"o\""
   ]
  },
  {
   "cell_type": "code",
   "execution_count": 16,
   "id": "7b790c67",
   "metadata": {},
   "outputs": [
    {
     "name": "stdout",
     "output_type": "stream",
     "text": [
      "['hello']\n"
     ]
    }
   ],
   "source": [
    "txt = \"hello planet\"\n",
    "x = re.findall(\"he.*o\", txt)\n",
    "print(x)\n"
   ]
  },
  {
   "cell_type": "markdown",
   "id": "3c77b441",
   "metadata": {},
   "source": [
    "## One or more occurrences"
   ]
  },
  {
   "cell_type": "markdown",
   "id": "88176f02",
   "metadata": {},
   "source": [
    "Search for a sequence that starts with \"he\", followed by 1 or more  (any) characters, and an \"o\":"
   ]
  },
  {
   "cell_type": "code",
   "execution_count": 17,
   "id": "cfa6f97a",
   "metadata": {},
   "outputs": [
    {
     "name": "stdout",
     "output_type": "stream",
     "text": [
      "['hello']\n"
     ]
    }
   ],
   "source": [
    "txt = \"hello planet\"\n",
    "x = re.findall(\"he.+o\",txt)\n",
    "print(x)"
   ]
  },
  {
   "cell_type": "markdown",
   "id": "cde075a1",
   "metadata": {},
   "source": [
    "## Zero or one occurrences"
   ]
  },
  {
   "cell_type": "markdown",
   "id": "503c172a",
   "metadata": {},
   "source": [
    "Search for a sequence that starts with \"he\", followed by 0 or 1  (any) character, and an \"o\":"
   ]
  },
  {
   "cell_type": "code",
   "execution_count": 20,
   "id": "cfbdea59",
   "metadata": {},
   "outputs": [
    {
     "name": "stdout",
     "output_type": "stream",
     "text": [
      "[]\n"
     ]
    }
   ],
   "source": [
    "txt = \"hello planet\"\n",
    "x = re.findall(\"he.?o\", txt)\n",
    "print(x)\n"
   ]
  },
  {
   "cell_type": "markdown",
   "id": "0f57b183",
   "metadata": {},
   "source": [
    "## Exactly the specified number of occurrences"
   ]
  },
  {
   "cell_type": "markdown",
   "id": "40283bfa",
   "metadata": {},
   "source": [
    "Search for a sequence that starts with \"he\", followed excactly 2 (any) characters, and an \"o\":"
   ]
  },
  {
   "cell_type": "code",
   "execution_count": 21,
   "id": "d6a4936a",
   "metadata": {},
   "outputs": [
    {
     "name": "stdout",
     "output_type": "stream",
     "text": [
      "['hello']\n"
     ]
    }
   ],
   "source": [
    "txt = \"hello planet\"\n",
    "x = re.findall(\"he.{2}o\", txt)\n",
    "print(x)"
   ]
  },
  {
   "cell_type": "markdown",
   "id": "81eaa911",
   "metadata": {},
   "source": [
    "## Either or"
   ]
  },
  {
   "cell_type": "markdown",
   "id": "715c6811",
   "metadata": {},
   "source": [
    "Check if the string contains either \"falls\" or \"stays\":"
   ]
  },
  {
   "cell_type": "code",
   "execution_count": 22,
   "id": "f5604c37",
   "metadata": {},
   "outputs": [
    {
     "name": "stdout",
     "output_type": "stream",
     "text": [
      "['falls']\n",
      "Yes, there is at least one match!\n"
     ]
    }
   ],
   "source": [
    "txt = \"The rain in Spain falls mainly in the plain!\"\n",
    "x = re.findall(\"falls|stays\", txt)\n",
    "\n",
    "print(x)\n",
    "\n",
    "if x:\n",
    "  print(\"Yes, there is at least one match!\")\n",
    "else:\n",
    "  print(\"No match\")\n"
   ]
  },
  {
   "cell_type": "markdown",
   "id": "d92cd910",
   "metadata": {},
   "source": [
    "## Characters at the Begining"
   ]
  },
  {
   "cell_type": "markdown",
   "id": "68a6d6bf",
   "metadata": {},
   "source": [
    "Check if the string starts with \"The\":"
   ]
  },
  {
   "cell_type": "code",
   "execution_count": 24,
   "id": "ff85454a",
   "metadata": {},
   "outputs": [
    {
     "name": "stdout",
     "output_type": "stream",
     "text": [
      "['The']\n",
      "Yes, there is a match!\n"
     ]
    }
   ],
   "source": [
    "txt = \"The rain in Spain\"\n",
    "x = re.findall(\"\\AThe\",txt)\n",
    "print(x)\n",
    "if x:\n",
    "    print(\"Yes, there is a match!\")\n",
    "else:\n",
    "    print(\"No Match\")"
   ]
  },
  {
   "cell_type": "markdown",
   "id": "05edb2e2",
   "metadata": {},
   "source": [
    "## Word at the Begining"
   ]
  },
  {
   "cell_type": "markdown",
   "id": "7370df43",
   "metadata": {},
   "source": [
    "Check if \"ain\" is present at the beginning of a WORD:"
   ]
  },
  {
   "cell_type": "code",
   "execution_count": 48,
   "id": "c5373212",
   "metadata": {},
   "outputs": [
    {
     "name": "stdout",
     "output_type": "stream",
     "text": [
      "['rain']\n",
      "Yes, there is at least one match! ['rain']\n"
     ]
    }
   ],
   "source": [
    "import re\n",
    "\n",
    "txt = \"The rain in Spain\"\n",
    "\n",
    "#Check if \"ain\" is present at the beginning of a WORD:\n",
    "\n",
    "x = re.findall(r\"\\brain\", txt)\n",
    "\n",
    "print(x)\n",
    "\n",
    "if x:\n",
    "  print(\"Yes, there is at least one match!\",x)\n",
    "else:\n",
    "  print(\"No match\")\n"
   ]
  },
  {
   "cell_type": "markdown",
   "id": "11a54701",
   "metadata": {},
   "source": [
    "## Word at the End"
   ]
  },
  {
   "cell_type": "markdown",
   "id": "72b1cd5a",
   "metadata": {},
   "source": [
    "Check if \"ain\" is present at the end of a WORD:"
   ]
  },
  {
   "cell_type": "code",
   "execution_count": 61,
   "id": "f96e25c1",
   "metadata": {},
   "outputs": [
    {
     "name": "stdout",
     "output_type": "stream",
     "text": [
      "['ain', 'ain']\n",
      "Yes ['ain', 'ain']is present in this string\n"
     ]
    }
   ],
   "source": [
    "txt = \"The rain in Spain\"\n",
    "x = re.findall(r\"ain\\b\",txt)\n",
    "print(x)\n",
    "if x:\n",
    "    print(\"Yes {}is present in this string\".format(x))"
   ]
  },
  {
   "cell_type": "markdown",
   "id": "54a44068",
   "metadata": {},
   "source": [
    "## NOT at the beginning of a word"
   ]
  },
  {
   "cell_type": "markdown",
   "id": "16c684b4",
   "metadata": {},
   "source": [
    "Check if \"ain\" is present, but NOT at the beginning of a word:"
   ]
  },
  {
   "cell_type": "code",
   "execution_count": 44,
   "id": "2b705101",
   "metadata": {},
   "outputs": [
    {
     "name": "stdout",
     "output_type": "stream",
     "text": [
      "['rain']\n",
      "Yes there is at least one match\n"
     ]
    }
   ],
   "source": [
    "txt = \"The rain in Spain\"\n",
    "\n",
    "\n",
    "x = re.findall(\"r\\Bain\",txt)\n",
    "print(x)\n",
    "if x:\n",
    "    print(\"Yes there is at least one match\")\n",
    "else:\n",
    "    print(\"NO Match\")\n",
    "\n"
   ]
  },
  {
   "cell_type": "markdown",
   "id": "e2d64777",
   "metadata": {},
   "source": [
    "## NOT at the end of a word"
   ]
  },
  {
   "cell_type": "markdown",
   "id": "bcbeb64f",
   "metadata": {},
   "source": [
    "Check if \"ain\" is present, but NOT at the end of a word:"
   ]
  },
  {
   "cell_type": "code",
   "execution_count": 49,
   "id": "1a08afcf",
   "metadata": {},
   "outputs": [
    {
     "name": "stdout",
     "output_type": "stream",
     "text": [
      "[]\n",
      "No Match\n"
     ]
    }
   ],
   "source": [
    "txt = \"The rain in Spain\"\n",
    "\n",
    "x = re.findall(r\"ain\\B\",txt)\n",
    "print(x)\n",
    "if x:\n",
    "    print(\"Yes there is at least one match\")\n",
    "else:\n",
    "    print(\"No Match\")"
   ]
  },
  {
   "cell_type": "markdown",
   "id": "df866028",
   "metadata": {},
   "source": [
    "## Contains any digits (numbers from 0-9)"
   ]
  },
  {
   "cell_type": "markdown",
   "id": "04e2253e",
   "metadata": {},
   "source": [
    "Check if the string contains any digits (numbers from 0-9):"
   ]
  },
  {
   "cell_type": "code",
   "execution_count": 52,
   "id": "12f03dca",
   "metadata": {},
   "outputs": [
    {
     "name": "stdout",
     "output_type": "stream",
     "text": [
      "['1', '0']\n",
      "Yes, there is at least one match!\n"
     ]
    }
   ],
   "source": [
    "txt = \"The1 rain in Spain0\"\n",
    "x = re.findall(\"\\d\", txt)\n",
    "\n",
    "print(x)\n",
    "\n",
    "if x:\n",
    "  print(\"Yes, there is at least one match!\")\n",
    "else:\n",
    "  print(\"No match\")\n"
   ]
  },
  {
   "cell_type": "markdown",
   "id": "3e9894ac",
   "metadata": {},
   "source": [
    "## Does Not Contains Digits"
   ]
  },
  {
   "cell_type": "code",
   "execution_count": 55,
   "id": "21994f1d",
   "metadata": {},
   "outputs": [
    {
     "name": "stdout",
     "output_type": "stream",
     "text": [
      "['T', 'h', 'e', ' ', 'r', 'a', 'i', 'n', ' ', 'i', 'n', ' ', 'S', 'p', 'a', 'i', 'n']\n",
      "Yes, there is at least one match!\n"
     ]
    }
   ],
   "source": [
    "txt = \"The rain in Spain1111\"\n",
    "x = re.findall(\"\\D\", txt)\n",
    "print(x)\n",
    "if x:\n",
    "  print(\"Yes, there is at least one match!\")\n",
    "else:\n",
    "  print(\"No match\")"
   ]
  },
  {
   "cell_type": "markdown",
   "id": "b4a104b1",
   "metadata": {},
   "source": [
    "## Ends With "
   ]
  },
  {
   "cell_type": "code",
   "execution_count": 68,
   "id": "14bf8faa",
   "metadata": {},
   "outputs": [
    {
     "name": "stdout",
     "output_type": "stream",
     "text": [
      "True\n"
     ]
    }
   ],
   "source": [
    "message = 'Python is fun'\n",
    "\n",
    "# check if the message ends with fun\n",
    "print(message.endswith('fun'))"
   ]
  },
  {
   "cell_type": "code",
   "execution_count": 69,
   "id": "b9a701cf",
   "metadata": {},
   "outputs": [
    {
     "name": "stdout",
     "output_type": "stream",
     "text": [
      "droid is awesome\n"
     ]
    }
   ],
   "source": [
    "string = 'android is awesome'\n",
    "print(string.strip('an'))"
   ]
  },
  {
   "cell_type": "markdown",
   "id": "81ba035d",
   "metadata": {},
   "source": [
    "## Contains Characters"
   ]
  },
  {
   "cell_type": "code",
   "execution_count": 4,
   "id": "fdbefa27",
   "metadata": {},
   "outputs": [
    {
     "name": "stdout",
     "output_type": "stream",
     "text": [
      "[]\n",
      "Not Present\n"
     ]
    }
   ],
   "source": [
    "import re\n",
    "\n",
    "txt = \"The rain in Spain\"\n",
    "\n",
    "#Check if the string has any a, r, or n characters:\n",
    "\n",
    "x = re.findall(\"[0-9]\", txt)\n",
    "print(x)\n",
    "if not x:\n",
    "    print(\"Not Present\")"
   ]
  },
  {
   "cell_type": "markdown",
   "id": "451eaa7e",
   "metadata": {},
   "source": [
    "## Contains Specified"
   ]
  },
  {
   "cell_type": "code",
   "execution_count": 5,
   "id": "a7f451dc",
   "metadata": {},
   "outputs": [
    {
     "name": "stdout",
     "output_type": "stream",
     "text": [
      "['r', 'a', 'n', 'n', 'a', 'n']\n"
     ]
    }
   ],
   "source": [
    "import re\n",
    "\n",
    "txt = \"The rain in Spain\"\n",
    "x = re.findall(\"[arn]\",txt)\n",
    "print(x)"
   ]
  },
  {
   "cell_type": "markdown",
   "id": "ff383979",
   "metadata": {},
   "source": [
    "## Alphabetically between a and n"
   ]
  },
  {
   "cell_type": "code",
   "execution_count": 6,
   "id": "4cf70782",
   "metadata": {},
   "outputs": [
    {
     "name": "stdout",
     "output_type": "stream",
     "text": [
      "['h', 'e', 'a', 'i', 'n', 'i', 'n', 'a', 'i', 'n']\n"
     ]
    }
   ],
   "source": [
    "import re\n",
    "\n",
    "txt = \"The rain in Spain\"\n",
    "x = re.findall(\"[a-n]\",txt)\n",
    "print(x)"
   ]
  },
  {
   "cell_type": "markdown",
   "id": "3b36f626",
   "metadata": {},
   "source": [
    "## EXCEPT a, r, and n"
   ]
  },
  {
   "cell_type": "code",
   "execution_count": 7,
   "id": "04a75ec4",
   "metadata": {},
   "outputs": [
    {
     "name": "stdout",
     "output_type": "stream",
     "text": [
      "['T', ' ', 'r', ' ', ' ', 'S', 'p']\n"
     ]
    }
   ],
   "source": [
    "import re\n",
    "\n",
    "txt = \"The rain in Spain\"\n",
    "\n",
    "x = re.findall('[^a-n]',txt)\n",
    "print(x)"
   ]
  },
  {
   "cell_type": "markdown",
   "id": "d9339e18",
   "metadata": {},
   "source": [
    "## String has any two-digit numbers"
   ]
  },
  {
   "cell_type": "code",
   "execution_count": 8,
   "id": "87e9e116",
   "metadata": {},
   "outputs": [
    {
     "name": "stdout",
     "output_type": "stream",
     "text": [
      "['11', '45']\n"
     ]
    }
   ],
   "source": [
    "import re\n",
    "\n",
    "txt = \"8 times before 11:45 AM\"\n",
    "x = re.findall(\"[0-5][0-9]\",txt)\n",
    "print(x)"
   ]
  },
  {
   "cell_type": "markdown",
   "id": "0886e6b6",
   "metadata": {},
   "source": [
    "## Special Characters"
   ]
  },
  {
   "cell_type": "code",
   "execution_count": 9,
   "id": "5356d499",
   "metadata": {},
   "outputs": [
    {
     "name": "stdout",
     "output_type": "stream",
     "text": [
      "[]\n"
     ]
    }
   ],
   "source": [
    "import re\n",
    "\n",
    "txt = \"8 times before 11:45 AM\"\n",
    "\n",
    "#Check if the string has any + characters:\n",
    "\n",
    "x = re.findall(\"[+]\", txt)\n",
    "\n",
    "print(x)\n"
   ]
  },
  {
   "cell_type": "markdown",
   "id": "e0651c01",
   "metadata": {},
   "source": [
    "## Findall Function"
   ]
  },
  {
   "cell_type": "code",
   "execution_count": 10,
   "id": "650e6bd7",
   "metadata": {},
   "outputs": [
    {
     "name": "stdout",
     "output_type": "stream",
     "text": [
      "[]\n"
     ]
    }
   ],
   "source": [
    "import re\n",
    "\n",
    "txt = \"The rain in Spain\"\n",
    "x = re.findall(\"Portugal\", txt)\n",
    "print(x)"
   ]
  },
  {
   "cell_type": "markdown",
   "id": "24d9e8cb",
   "metadata": {},
   "source": [
    "## Split "
   ]
  },
  {
   "cell_type": "code",
   "execution_count": 11,
   "id": "0a88b729",
   "metadata": {},
   "outputs": [
    {
     "name": "stdout",
     "output_type": "stream",
     "text": [
      "['The', 'rain', 'in', 'Spain']\n"
     ]
    }
   ],
   "source": [
    "import re\n",
    "\n",
    "txt = \"The rain in Spain\"\n",
    "x = re.split(\"\\s\", txt)\n",
    "print(x)"
   ]
  },
  {
   "cell_type": "markdown",
   "id": "1c1a53ea",
   "metadata": {},
   "source": [
    "Split the string only at the first occurrence:"
   ]
  },
  {
   "cell_type": "code",
   "execution_count": 12,
   "id": "71e179a2",
   "metadata": {},
   "outputs": [
    {
     "name": "stdout",
     "output_type": "stream",
     "text": [
      "['The', 'rain in Spain']\n"
     ]
    }
   ],
   "source": [
    "import re\n",
    "\n",
    "txt = \"The rain in Spain\"\n",
    "x = re.split(\"\\s\", txt, 1)\n",
    "print(x)"
   ]
  },
  {
   "cell_type": "markdown",
   "id": "5931de12",
   "metadata": {},
   "source": [
    "## sub() Function\n",
    "The sub() function replaces the matches with the text of your choice"
   ]
  },
  {
   "cell_type": "code",
   "execution_count": 13,
   "id": "8c4f027c",
   "metadata": {},
   "outputs": [
    {
     "name": "stdout",
     "output_type": "stream",
     "text": [
      "The9rain9in9Spain\n"
     ]
    }
   ],
   "source": [
    "import re\n",
    "\n",
    "txt = \"The rain in Spain\"\n",
    "x = re.sub(\"\\s\", \"9\", txt)\n",
    "print(x)"
   ]
  },
  {
   "cell_type": "markdown",
   "id": "e1bbf13e",
   "metadata": {},
   "source": [
    "## Span()"
   ]
  },
  {
   "cell_type": "markdown",
   "id": "1803fd75",
   "metadata": {},
   "source": [
    "Print the position (start- and end-position) of the first match occurrence.\n",
    "\n",
    "The regular expression looks for any words that starts with an upper case \"S\":"
   ]
  },
  {
   "cell_type": "code",
   "execution_count": 14,
   "id": "ee1a0513",
   "metadata": {},
   "outputs": [
    {
     "name": "stdout",
     "output_type": "stream",
     "text": [
      "(12, 17)\n"
     ]
    }
   ],
   "source": [
    "import re\n",
    "\n",
    "txt = \"The rain in Spain\"\n",
    "x = re.search(r\"\\bS\\w+\", txt)\n",
    "print(x.span())"
   ]
  },
  {
   "cell_type": "code",
   "execution_count": 15,
   "id": "0af1f121",
   "metadata": {},
   "outputs": [
    {
     "name": "stdout",
     "output_type": "stream",
     "text": [
      "The rain in Spain\n"
     ]
    }
   ],
   "source": [
    "import re\n",
    "\n",
    "txt = \"The rain in Spain\"\n",
    "x = re.search(r\"\\bS\\w+\", txt)\n",
    "print(x.string)"
   ]
  },
  {
   "cell_type": "code",
   "execution_count": 16,
   "id": "df6bf069",
   "metadata": {},
   "outputs": [
    {
     "name": "stdout",
     "output_type": "stream",
     "text": [
      "Spain\n"
     ]
    }
   ],
   "source": [
    "import re\n",
    "\n",
    "txt = \"The rain in Spain\"\n",
    "x = re.search(r\"\\bS\\w+\", txt)\n",
    "print(x.group())"
   ]
  },
  {
   "cell_type": "code",
   "execution_count": null,
   "id": "88ea422b",
   "metadata": {},
   "outputs": [],
   "source": []
  }
 ],
 "metadata": {
  "kernelspec": {
   "display_name": "Python 3 (ipykernel)",
   "language": "python",
   "name": "python3"
  },
  "language_info": {
   "codemirror_mode": {
    "name": "ipython",
    "version": 3
   },
   "file_extension": ".py",
   "mimetype": "text/x-python",
   "name": "python",
   "nbconvert_exporter": "python",
   "pygments_lexer": "ipython3",
   "version": "3.7.11"
  }
 },
 "nbformat": 4,
 "nbformat_minor": 5
}
